{
 "metadata": {
  "language_info": {
   "codemirror_mode": {
    "name": "ipython",
    "version": 3
   },
   "file_extension": ".py",
   "mimetype": "text/x-python",
   "name": "python",
   "nbconvert_exporter": "python",
   "pygments_lexer": "ipython3",
   "version": "3.7.3-final"
  },
  "orig_nbformat": 2,
  "kernelspec": {
   "name": "python_defaultSpec_1598836205227",
   "display_name": "Python 3.7.3 64-bit ('base': conda)"
  }
 },
 "nbformat": 4,
 "nbformat_minor": 2,
 "cells": [
  {
   "cell_type": "markdown",
   "metadata": {},
   "source": [
    "# Analyze fail cases of our current model\n",
    "- Ideas:\n",
    " + "
   ]
  },
  {
   "cell_type": "code",
   "execution_count": 1,
   "metadata": {},
   "outputs": [
    {
     "output_type": "execute_result",
     "data": {
      "text/plain": "False"
     },
     "metadata": {},
     "execution_count": 1
    }
   ],
   "source": [
    "def make_box_square(box, pad=0):\n",
    "    x,y, x1, y1 = box\n",
    "    # Get mid point\n",
    "    mx = (x+x1)//2\n",
    "    my = (y+y1)//2\n",
    "    # Padding from the middle\n",
    "    pad = max(x1-x, y1-y)//2\n",
    "    x = mx-pad\n",
    "    y = my-pad\n",
    "    x1 = mx + pad\n",
    "    y1 = my+pad\n",
    "    \n",
    "\n",
    "def transform(data, center, output_size, scale, rotation):\n",
    "    scale_ratio = scale\n",
    "    rot = float(rotation)*np.pi/180.0\n",
    "    #translation = (output_size/2-center[0]*scale_ratio, output_size/2-center[1]*scale_ratio)\n",
    "    t1 = trans.SimilarityTransform(scale=scale_ratio)\n",
    "    cx = center[0]*scale_ratio\n",
    "    cy = center[1]*scale_ratio\n",
    "    t2 = trans.SimilarityTransform(translation=(-1*cx, -1*cy))\n",
    "    t3 = trans.SimilarityTransform(rotation=rot)\n",
    "    t4 = trans.SimilarityTransform(translation=(output_size/2, output_size/2))\n",
    "    t = t1+t2+t3+t4\n",
    "    M = t.params[0:2]\n",
    "    cropped = cv2.warpAffine(data,M,(output_size, output_size), borderValue = 0.0)\n",
    "\n",
    "    return cropped, M "
   ]
  },
  {
   "cell_type": "code",
   "execution_count": null,
   "metadata": {},
   "outputs": [],
   "source": []
  }
 ]
}