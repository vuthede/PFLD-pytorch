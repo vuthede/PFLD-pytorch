{
 "cells": [
  {
   "cell_type": "code",
   "execution_count": 1,
   "metadata": {
    "tags": []
   },
   "outputs": [
    {
     "output_type": "stream",
     "name": "stdout",
     "text": "Shape layer4:  torch.Size([1, 512, 12, 12])\ntorch.Size([1, 128, 48, 48]) torch.Size([1, 136])\nTime inference:  0.15273761749267578\nTime ave:  0.15273761749267578\n"
    }
   ],
   "source": [
    "import torch\n",
    "import sys\n",
    "sys.path.insert(0, \"../models\")\n",
    "import rexnet\n",
    "import time\n",
    "import numpy as np\n",
    "\n",
    "from resnet import ResNet, BasicBlock, ResNet68lmks\n",
    "\n",
    "model = ResNet68lmks(block=BasicBlock, layers=[3, 4, 23, 3])\n",
    "model.eval()\n",
    "\n",
    "x = torch.randn(1, 3, 192, 192)\n",
    "times = []\n",
    "for i in range(1):\n",
    "    t1 =time.time()\n",
    "    a, b = model(x)\n",
    "    print(a.shape, b.shape)\n",
    "    t2 =time.time()\n",
    "    times.append(t2-t1)\n",
    "    print(\"Time inference: \", t2-t1)\n",
    "\n",
    "print(\"Time ave: \", np.mean(times))"
   ]
  },
  {
   "cell_type": "code",
   "execution_count": null,
   "metadata": {},
   "outputs": [],
   "source": []
  },
  {
   "cell_type": "code",
   "execution_count": null,
   "metadata": {},
   "outputs": [],
   "source": []
  }
 ],
 "metadata": {
  "language_info": {
   "codemirror_mode": {
    "name": "ipython",
    "version": 3
   },
   "file_extension": ".py",
   "mimetype": "text/x-python",
   "name": "python",
   "nbconvert_exporter": "python",
   "pygments_lexer": "ipython3",
   "version": "3.7.0-final"
  },
  "orig_nbformat": 2,
  "kernelspec": {
   "name": "python_defaultSpec_1599623115615",
   "display_name": "Python 3.7.0 64-bit ('pfld': conda)"
  }
 },
 "nbformat": 4,
 "nbformat_minor": 2
}